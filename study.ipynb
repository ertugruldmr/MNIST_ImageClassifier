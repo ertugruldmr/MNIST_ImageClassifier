{
  "cells": [
    {
      "attachments": {},
      "cell_type": "markdown",
      "metadata": {
        "id": "49YgF5BBGfc2"
      },
      "source": [
        "# Computer Vision Projects"
      ]
    },
    {
      "cell_type": "markdown",
      "metadata": {
        "id": "FE1a06lKH-tU"
      },
      "source": [
        "## (1) Mnist Example"
      ]
    },
    {
      "cell_type": "markdown",
      "metadata": {
        "id": "ry77QQj8Oc8X"
      },
      "source": [
        "## Installations"
      ]
    },
    {
      "cell_type": "markdown",
      "metadata": {
        "id": "FIli-f38OM4v"
      },
      "source": [
        "### Dependencies"
      ]
    },
    {
      "cell_type": "code",
      "execution_count": 1,
      "metadata": {
        "id": "OP-nSYZ3I2oV"
      },
      "outputs": [],
      "source": [
        "import tensorflow as tf\n",
        "import tensorflow_datasets as tfds\n",
        "\n",
        "import cv2\n",
        "import pandas as pd\n",
        "import numpy as np\n",
        "import seaborn as sns\n",
        "import matplotlib.pyplot as plt"
      ]
    },
    {
      "cell_type": "markdown",
      "metadata": {
        "id": "H-nT6hltOK3D"
      },
      "source": [
        "### Configurations"
      ]
    },
    {
      "cell_type": "code",
      "execution_count": 2,
      "metadata": {
        "id": "JApHiNRJOMgJ"
      },
      "outputs": [],
      "source": [
        "# Declerating the configuration params\n",
        "AUTOTUNE = tf.data.experimental.AUTOTUNE\n",
        "\n",
        "\n",
        "tb_log_dir = './logs'\n",
        "\n",
        "\n",
        "batch_size=256\n",
        "img_resize = (32, 32)\n",
        "img_size = img_resize + (3,) # we will cast the channels to use state of art models"
      ]
    },
    {
      "cell_type": "markdown",
      "metadata": {
        "id": "VNi6XvS1OhjJ"
      },
      "source": [
        "## Data"
      ]
    },
    {
      "cell_type": "markdown",
      "metadata": {
        "id": "_e2MXvcz_jX_"
      },
      "source": [
        "### Downloading the dataset\n",
        "- [MNIST DATASET](http://yann.lecun.com/exdb/mnist/)"
      ]
    },
    {
      "cell_type": "code",
      "execution_count": 58,
      "metadata": {
        "id": "ReSB5AeEKXS4"
      },
      "outputs": [],
      "source": [
        "#split_strs = ['train[:80%]', 'train[80%:90%]', 'train[90%:]']\n",
        "dataset, info = tfds.load('mnist', as_supervised=True,shuffle_files=True, with_info=True)"
      ]
    },
    {
      "cell_type": "code",
      "execution_count": 59,
      "metadata": {
        "colab": {
          "base_uri": "https://localhost:8080/"
        },
        "id": "YSxd6vhXNCOj",
        "outputId": "3d8aacc4-3a88-442a-b51d-2f1901c68a32"
      },
      "outputs": [
        {
          "data": {
            "text/plain": [
              "tfds.core.DatasetInfo(\n",
              "    name='mnist',\n",
              "    full_name='mnist/3.0.1',\n",
              "    description=\"\"\"\n",
              "    The MNIST database of handwritten digits.\n",
              "    \"\"\",\n",
              "    homepage='http://yann.lecun.com/exdb/mnist/',\n",
              "    data_path='/root/tensorflow_datasets/mnist/3.0.1',\n",
              "    file_format=tfrecord,\n",
              "    download_size=11.06 MiB,\n",
              "    dataset_size=21.00 MiB,\n",
              "    features=FeaturesDict({\n",
              "        'image': Image(shape=(28, 28, 1), dtype=uint8),\n",
              "        'label': ClassLabel(shape=(), dtype=int64, num_classes=10),\n",
              "    }),\n",
              "    supervised_keys=('image', 'label'),\n",
              "    disable_shuffling=False,\n",
              "    splits={\n",
              "        'test': <SplitInfo num_examples=10000, num_shards=1>,\n",
              "        'train': <SplitInfo num_examples=60000, num_shards=1>,\n",
              "    },\n",
              "    citation=\"\"\"@article{lecun2010mnist,\n",
              "      title={MNIST handwritten digit database},\n",
              "      author={LeCun, Yann and Cortes, Corinna and Burges, CJ},\n",
              "      journal={ATT Labs [Online]. Available: http://yann.lecun.com/exdb/mnist},\n",
              "      volume={2},\n",
              "      year={2010}\n",
              "    }\"\"\",\n",
              ")"
            ]
          },
          "execution_count": 59,
          "metadata": {},
          "output_type": "execute_result"
        }
      ],
      "source": [
        "info"
      ]
    },
    {
      "cell_type": "code",
      "execution_count": 60,
      "metadata": {
        "colab": {
          "base_uri": "https://localhost:8080/"
        },
        "id": "GZKrVGhiLZg0",
        "outputId": "c1eeb0f5-c570-4c72-9651-c42739886030"
      },
      "outputs": [
        {
          "data": {
            "text/plain": [
              "{'test': <PrefetchDataset element_spec=(TensorSpec(shape=(28, 28, 1), dtype=tf.uint8, name=None), TensorSpec(shape=(), dtype=tf.int64, name=None))>,\n",
              " 'train': <PrefetchDataset element_spec=(TensorSpec(shape=(28, 28, 1), dtype=tf.uint8, name=None), TensorSpec(shape=(), dtype=tf.int64, name=None))>}"
            ]
          },
          "execution_count": 60,
          "metadata": {},
          "output_type": "execute_result"
        }
      ],
      "source": [
        "dataset"
      ]
    },
    {
      "cell_type": "code",
      "execution_count": 61,
      "metadata": {
        "id": "yZ8Qq8wsM6p4"
      },
      "outputs": [],
      "source": [
        "test_ds, train_ds = dataset[\"test\"], dataset[\"train\"]"
      ]
    },
    {
      "cell_type": "code",
      "execution_count": 62,
      "metadata": {
        "colab": {
          "base_uri": "https://localhost:8080/"
        },
        "id": "Z4eQU88-NxuF",
        "outputId": "7abd3d1e-7b55-4460-bfff-e495590d9972"
      },
      "outputs": [
        {
          "data": {
            "text/plain": [
              "<PrefetchDataset element_spec=(TensorSpec(shape=(28, 28, 1), dtype=tf.uint8, name=None), TensorSpec(shape=(), dtype=tf.int64, name=None))>"
            ]
          },
          "execution_count": 62,
          "metadata": {},
          "output_type": "execute_result"
        }
      ],
      "source": [
        "test_ds"
      ]
    },
    {
      "cell_type": "code",
      "execution_count": 63,
      "metadata": {
        "colab": {
          "base_uri": "https://localhost:8080/"
        },
        "id": "x3LNNQgrNybM",
        "outputId": "110005a9-6c51-4a5c-8942-f35c6950f12d"
      },
      "outputs": [
        {
          "data": {
            "text/plain": [
              "<PrefetchDataset element_spec=(TensorSpec(shape=(28, 28, 1), dtype=tf.uint8, name=None), TensorSpec(shape=(), dtype=tf.int64, name=None))>"
            ]
          },
          "execution_count": 63,
          "metadata": {},
          "output_type": "execute_result"
        }
      ],
      "source": [
        "train_ds"
      ]
    },
    {
      "cell_type": "code",
      "execution_count": 64,
      "metadata": {
        "colab": {
          "base_uri": "https://localhost:8080/"
        },
        "id": "DyvERqJyMEwQ",
        "outputId": "5922c497-3213-40ad-f8a4-0784cd2bec81"
      },
      "outputs": [
        {
          "data": {
            "text/plain": [
              "['0', '1', '2', '3', '4', '5', '6', '7', '8', '9']"
            ]
          },
          "execution_count": 64,
          "metadata": {},
          "output_type": "execute_result"
        }
      ],
      "source": [
        "class_names = info.features[\"label\"].names\n",
        "class_names"
      ]
    },
    {
      "cell_type": "markdown",
      "metadata": {
        "id": "0adgyVmsQjnY"
      },
      "source": [
        "### Visualization of the dataset"
      ]
    },
    {
      "cell_type": "markdown",
      "metadata": {
        "id": "Ac6PssHRRqbY"
      },
      "source": [
        "```python\n",
        "# when using load from dir method, it will ecnode the labels\n",
        "# You can use following code\n",
        "train_coded_ids = class_names\n",
        "\n",
        "def decode_the_label(encoding_index, encoding=train_coded_ids):\n",
        "  class_id = int( encoding[encoding_index] )\n",
        "  class_name = classes[class_id]\n",
        "  return class_name\n",
        "```"
      ]
    },
    {
      "cell_type": "code",
      "execution_count": 65,
      "metadata": {
        "colab": {
          "base_uri": "https://localhost:8080/",
          "height": 607
        },
        "id": "iTtcEgsOQVyR",
        "outputId": "d017a01b-2b6a-4492-8f02-63f86e7226ea"
      },
      "outputs": [
        {
          "data": {
            "image/png": "[encoded data removed]",
            "text/plain": [
              "<Figure size 720x720 with 9 Axes>"
            ]
          },
          "metadata": {
            "needs_background": "light"
          },
          "output_type": "display_data"
        }
      ],
      "source": [
        "import matplotlib.pyplot as plt\n",
        "\n",
        "plt.figure(figsize=(10, 10))\n",
        "for i, (image, id) in enumerate(train_ds.take(9)):\n",
        "    ax = plt.subplot(3, 3, i + 1)\n",
        "    plt.imshow(image) \n",
        "    plt.title(str(int(id)))"
      ]
    },
    {
      "cell_type": "markdown",
      "metadata": {
        "id": "pZJeqOT9MzRI"
      },
      "source": [
        "### Splitting the dataset"
      ]
    },
    {
      "cell_type": "code",
      "execution_count": 66,
      "metadata": {
        "id": "aY_S5L9QeFXd"
      },
      "outputs": [],
      "source": [
        "def split_dataset(dataset, train_split=0.6, val_split=0.2, shuffle_buffer_size=1024):\n",
        "    # Shuffling for randomless\n",
        "    dataset = dataset.shuffle(buffer_size=shuffle_buffer_size)\n",
        "    \n",
        "    # extracting the dataset info\n",
        "    dataset_size = tf.data.experimental.cardinality(dataset).numpy()\n",
        "    train_size = int(dataset_size * train_split)\n",
        "    val_size = int(dataset_size * val_split)\n",
        "    test_size = dataset_size - train_size - val_size\n",
        "\n",
        "\n",
        "    # Dataset splits\n",
        "    train_dataset = dataset.take(train_size)\n",
        "    val_dataset = dataset.skip(train_size).take(val_size)\n",
        "    test_dataset = dataset.skip(train_size + val_size)\n",
        "\n",
        "\n",
        "    return train_dataset, val_dataset, test_dataset\n",
        "\n",
        "def split_train_val(dataset, train_split=0.8, val_split=0.2, shuffle_buffer_size=1024):\n",
        "    # Shuffling for randomless\n",
        "    dataset = dataset.shuffle(buffer_size=shuffle_buffer_size)\n",
        "    \n",
        "    # extracting the dataset info\n",
        "    dataset_size = tf.data.experimental.cardinality(dataset).numpy()\n",
        "    train_size = int(dataset_size * train_split)\n",
        "    val_size = int(dataset_size * val_split)\n",
        "\n",
        "    # Dataset splits\n",
        "    train_dataset = dataset.take(train_size)\n",
        "    val_dataset = dataset.skip(train_size).take(val_size)\n",
        "\n",
        "    return train_dataset, val_dataset"
      ]
    },
    {
      "cell_type": "code",
      "execution_count": 67,
      "metadata": {
        "id": "Xsex1H4keFSE"
      },
      "outputs": [],
      "source": [
        "train_ds, val_ds = split_train_val(train_ds)"
      ]
    },
    {
      "cell_type": "markdown",
      "metadata": {
        "id": "jOdFs9-uN68E"
      },
      "source": [
        "### preprocessing"
      ]
    },
    {
      "cell_type": "code",
      "execution_count": 68,
      "metadata": {
        "id": "ZbjQErEpeBJu"
      },
      "outputs": [],
      "source": [
        "def process_image(image, label):\n",
        "    # Cast the image to tf.float32\n",
        "    image = tf.cast(image, tf.float32)\n",
        "    \n",
        "    # 1 channel to 3 channel\n",
        "    rgb_image = tf.repeat(image, 3, axis=-1)\n",
        "\n",
        "    # Resize the image to img_resize\n",
        "    image = tf.image.resize(rgb_image, img_resize)\n",
        "    \n",
        "    # Normalize the image\n",
        "    image /= 255.0\n",
        "    \n",
        "    # Return the processed image and label\n",
        "    return image, label\n"
      ]
    },
    {
      "cell_type": "code",
      "execution_count": 69,
      "metadata": {
        "id": "v1njOiktdOza"
      },
      "outputs": [],
      "source": [
        "train_ds = train_ds.map(process_image)\n",
        "val_ds = val_ds.map(process_image)\n",
        "test_ds = test_ds.map(process_image)"
      ]
    },
    {
      "cell_type": "code",
      "execution_count": 70,
      "metadata": {
        "colab": {
          "base_uri": "https://localhost:8080/",
          "height": 607
        },
        "id": "OYOpBzogYsI5",
        "outputId": "885107cd-50d6-4e88-eb30-c8c1f4177cf4"
      },
      "outputs": [
        {
          "data": {
            "image/png": "[encoded data removed]",
            "text/plain": [
              "<Figure size 720x720 with 9 Axes>"
            ]
          },
          "metadata": {
            "needs_background": "light"
          },
          "output_type": "display_data"
        }
      ],
      "source": [
        "import matplotlib.pyplot as plt\n",
        "\n",
        "plt.figure(figsize=(10, 10))\n",
        "for i, (image, id) in enumerate(train_ds.take(9)):\n",
        "    ax = plt.subplot(3, 3, i + 1)\n",
        "    plt.imshow(image, cmap=\"binary\") \n",
        "    plt.title(str(int(id)))"
      ]
    },
    {
      "cell_type": "markdown",
      "metadata": {
        "id": "qww9tlNdfhhW"
      },
      "source": [
        "### Data Augmentation"
      ]
    },
    {
      "cell_type": "markdown",
      "metadata": {
        "id": "O55aiiVdU_3i"
      },
      "source": [
        "#### Util Function "
      ]
    },
    {
      "cell_type": "code",
      "execution_count": 71,
      "metadata": {
        "id": "xIU2O0nxex_c"
      },
      "outputs": [],
      "source": [
        "from albumentations import (\n",
        "    Compose, RandomBrightness, JpegCompression, HueSaturationValue, RandomContrast, HorizontalFlip,\n",
        "    Rotate\n",
        ")\n",
        "\n",
        "\n",
        "# Instantiate augments\n",
        "# we can apply as many augments we want and adjust the values accordingly\n",
        "# here I have chosen the augments and their arguments at random\n",
        "transforms = Compose([\n",
        "            Rotate(limit=30),\n",
        "            #RandomBrightness(limit=0.1),\n",
        "            # JpegCompression(quality_lower=85, quality_upper=100, p=0.5),\n",
        "            # HueSaturationValue(hue_shift_limit=20, sat_shift_limit=30, val_shift_limit=20, p=0.5),\n",
        "            # RandomContrast(limit=0.2, p=0.5),\n",
        "            #HorizontalFlip(),\n",
        "        ])\n",
        "\n",
        "\n",
        "def aug_fn(image, img_size):\n",
        "    data = {\"image\":image}\n",
        "    aug_data = transforms(**data)\n",
        "    aug_img = aug_data[\"image\"]\n",
        "    #aug_img = tf.cast(aug_img/255.0, tf.float32)\n",
        "    aug_img = tf.image.resize(aug_img, size=img_size)\n",
        "    return aug_img\n",
        "\n",
        "\n",
        "def image_augment(image, label, img_size):\n",
        "    aug_img = tf.numpy_function(func=aug_fn, inp=[image, img_size], Tout=tf.float32)\n",
        "    return aug_img, label\n"
      ]
    },
    {
      "cell_type": "markdown",
      "metadata": {
        "id": "u2DlEgPsVEej"
      },
      "source": [
        "#### visualizating the data augmentation"
      ]
    },
    {
      "cell_type": "markdown",
      "metadata": {
        "id": "UXi3BxT6VEej"
      },
      "source": [
        "```python\n",
        "from tensorflow.keras import layers\n",
        "\n",
        "data_augmentation_layer_before_process = tf.keras.Sequential([\n",
        "  #layers.RandomFlip(\"horizontal_and_vertical\"), # it can confuse left and rigt\n",
        "  layers.RandomCrop(height=256, width=256),\n",
        "  layers.RandomRotation(0.01),\n",
        "  layers.RandomZoom(0.2),\n",
        "])\n",
        "\n",
        "data_augmentation_layer = tf.keras.Sequential([\n",
        "  #layers.RandomFlip(\"horizontal_and_vertical\"), # it can confuse left and rigt\n",
        "  layers.RandomCrop(height=30, width=30),\n",
        "  layers.RandomRotation(0.01),\n",
        "  layers.RandomZoom(0.2),\n",
        "])\n",
        "```"
      ]
    },
    {
      "cell_type": "code",
      "execution_count": 72,
      "metadata": {
        "colab": {
          "base_uri": "https://localhost:8080/"
        },
        "id": "yhf5SyTYc1yP",
        "outputId": "d5aea812-85db-49ae-9dbc-2cfd56718d90"
      },
      "outputs": [
        {
          "data": {
            "text/plain": [
              "['0', '1', '2', '3', '4', '5', '6', '7', '8', '9']"
            ]
          },
          "execution_count": 72,
          "metadata": {},
          "output_type": "execute_result"
        }
      ],
      "source": [
        "class_names # info.features[\"label\"].names"
      ]
    },
    {
      "cell_type": "markdown",
      "metadata": {
        "id": "FO94J8tVocry"
      },
      "source": [
        "##### util functions"
      ]
    },
    {
      "cell_type": "code",
      "execution_count": 73,
      "metadata": {
        "id": "J0uk8CIgcGoB"
      },
      "outputs": [],
      "source": [
        "def get_a_sample(train_ds, class_names):\n",
        "  \n",
        "  sample_data = {}\n",
        "  is_collected = {class_name : False for class_name in class_names}\n",
        "  \n",
        "  for image, class_name in train_ds.take(len(train_ds)):\n",
        "    \n",
        "     # type casting\n",
        "    class_name = int(class_name)\n",
        "\n",
        "    # collecting a sample per label\n",
        "    if class_name not in sample_data.keys():\n",
        "      sample_data[class_name] = image\n",
        "      is_collected[class_name] = True \n",
        "    \n",
        "    # check whether collected all classes\n",
        "    if all(is_collected.values()):\n",
        "      break\n",
        "\n",
        "  return sample_data\n",
        "\n",
        "def augment_per_class(sample_data, ordered_class_names, aug_size = 8, figsize=(30,30)):\n",
        "  rs, cs = len(sample_data), aug_size+1\n",
        "  plt.figure(figsize=figsize)\n",
        "\n",
        "  for row_id, class_name in enumerate(ordered_class_names):\n",
        "    # extracting the image\n",
        "    image = sample_data[int(class_name)]\n",
        "\n",
        "    # plotting the original image in the first axis\n",
        "    first_col_on_cur_row = row_id*cs + 1\n",
        "    plt.subplot(rs, cs , first_col_on_cur_row)\n",
        "    plt.imshow(image, cmap=\"binary\") # astype(\"uint8\"),\n",
        "    plt.title(f\"Original Image of {class_name} class\")\n",
        "    plt.axis(\"off\")\n",
        "\n",
        "\n",
        "    for col_id in range(1, cs):\n",
        "        \n",
        "        # augmenting same image \n",
        "        data = {\"image\":np.array(image)}\n",
        "        aug_img = transforms(**data)[\"image\"]\n",
        "\n",
        "        # plotting \n",
        "        cur_col = first_col_on_cur_row + col_id \n",
        "        plt.subplot(rs, cs ,  cur_col)\n",
        "        plt.imshow(aug_img, cmap=\"binary\")\n",
        "        plt.axis(\"off\")\n",
        "        "
      ]
    },
    {
      "cell_type": "code",
      "execution_count": 112,
      "metadata": {
        "id": "Nws9PNTb1O4M"
      },
      "outputs": [],
      "source": [
        "import os \n",
        "import cv2\n",
        "\n",
        "def save_sample_data(sample_data, path=\"sample_images\"):\n",
        "  \n",
        "  if not os.path.exists(path): os.mkdir(path)\n",
        "\n",
        "  for name, image in  sample_data.items():\n",
        "    file_name = os.path.join(path, f\"{str(name)}.png\")\n",
        "    image = np.array(image) * 255\n",
        "\n",
        "    cv2.imwrite(file_name, image)  \n",
        "  "
      ]
    },
    {
      "cell_type": "markdown",
      "metadata": {
        "id": "QZBo2nORojiu"
      },
      "source": [
        "#### Implementation"
      ]
    },
    {
      "cell_type": "code",
      "execution_count": 74,
      "metadata": {
        "id": "br0MyXROdwDR"
      },
      "outputs": [],
      "source": [
        "sample_data = get_a_sample(train_ds, class_names)"
      ]
    },
    {
      "cell_type": "code",
      "execution_count": 75,
      "metadata": {
        "colab": {
          "base_uri": "https://localhost:8080/"
        },
        "id": "duqwL9rcd0bv",
        "outputId": "91062818-173f-4ae9-d8cd-86368ef478ae"
      },
      "outputs": [
        {
          "data": {
            "text/plain": [
              "dict_keys([5, 7, 8, 2, 0, 4, 3, 6, 1, 9])"
            ]
          },
          "execution_count": 75,
          "metadata": {},
          "output_type": "execute_result"
        }
      ],
      "source": [
        "sample_data.keys()"
      ]
    },
    {
      "cell_type": "code",
      "execution_count": 76,
      "metadata": {
        "colab": {
          "base_uri": "https://localhost:8080/",
          "height": 660
        },
        "id": "Ipu4crrfi6az",
        "outputId": "6f897a87-6313-4979-b368-d0b1f2599ee7"
      },
      "outputs": [
        {
          "data": {
            "image/png": "[encoded data removed]",
            "text/plain": [
              "<Figure size 1440x1080 with 10 Axes>"
            ]
          },
          "metadata": {
            "needs_background": "light"
          },
          "output_type": "display_data"
        }
      ],
      "source": [
        "rs, cs = len(sample_data)//4+1, 4\n",
        "plt.figure(figsize=(cs*5, rs*5))\n",
        "for i, (name, image) in enumerate(sample_data.items()):\n",
        "  plt.subplot(rs, cs, i+1)\n",
        "  plt.imshow(image)\n",
        "  plt.title(str(name))"
      ]
    },
    {
      "cell_type": "code",
      "execution_count": 120,
      "metadata": {
        "id": "REgDjnUn108a"
      },
      "outputs": [],
      "source": [
        "save_sample_imgs = \"sample_images\"\n",
        "save_sample_data(sample_data, save_sample_imgs)"
      ]
    },
    {
      "cell_type": "code",
      "execution_count": 121,
      "metadata": {
        "colab": {
          "base_uri": "https://localhost:8080/"
        },
        "id": "-us8_Zcs106V",
        "outputId": "d699d310-e2bd-4d38-c8dc-81f572ce0124"
      },
      "outputs": [
        {
          "data": {
            "text/plain": [
              "0"
            ]
          },
          "execution_count": 121,
          "metadata": {},
          "output_type": "execute_result"
        }
      ],
      "source": [
        "os.system(f\"zip {save_sample_imgs}.zip {save_sample_imgs}\")"
      ]
    },
    {
      "cell_type": "code",
      "execution_count": 124,
      "metadata": {
        "colab": {
          "base_uri": "https://localhost:8080/",
          "height": 17
        },
        "id": "c9N_b28X3LQl",
        "outputId": "697a352c-3de3-4aca-8ce4-97c0e38a6985"
      },
      "outputs": [
        {
          "data": {
            "application/javascript": "\n    async function download(id, filename, size) {\n      if (!google.colab.kernel.accessAllowed) {\n        return;\n      }\n      const div = document.createElement('div');\n      const label = document.createElement('label');\n      label.textContent = `Downloading \"${filename}\": `;\n      div.appendChild(label);\n      const progress = document.createElement('progress');\n      progress.max = size;\n      div.appendChild(progress);\n      document.body.appendChild(div);\n\n      const buffers = [];\n      let downloaded = 0;\n\n      const channel = await google.colab.kernel.comms.open(id);\n      // Send a message to notify the kernel that we're ready.\n      channel.send({})\n\n      for await (const message of channel.messages) {\n        // Send a message to notify the kernel that we're ready.\n        channel.send({})\n        if (message.buffers) {\n          for (const buffer of message.buffers) {\n            buffers.push(buffer);\n            downloaded += buffer.byteLength;\n            progress.value = downloaded;\n          }\n        }\n      }\n      const blob = new Blob(buffers, {type: 'application/binary'});\n      const a = document.createElement('a');\n      a.href = window.URL.createObjectURL(blob);\n      a.download = filename;\n      div.appendChild(a);\n      a.click();\n      div.remove();\n    }\n  ",
            "text/plain": [
              "<IPython.core.display.Javascript object>"
            ]
          },
          "metadata": {},
          "output_type": "display_data"
        },
        {
          "data": {
            "application/javascript": "download(\"download_735ba629-d303-4467-a841-ec4eceb324c9\", \"sample_images.zip\", 178)",
            "text/plain": [
              "<IPython.core.display.Javascript object>"
            ]
          },
          "metadata": {},
          "output_type": "display_data"
        }
      ],
      "source": [
        "from google.colab import files\n",
        "files.download(f\"{save_sample_imgs}.zip\")"
      ]
    },
    {
      "cell_type": "code",
      "execution_count": null,
      "metadata": {
        "id": "qNAKRWTh103x"
      },
      "outputs": [],
      "source": []
    },
    {
      "cell_type": "code",
      "execution_count": 77,
      "metadata": {
        "colab": {
          "base_uri": "https://localhost:8080/"
        },
        "id": "6EU3OH9Wju_Q",
        "outputId": "5740a439-b99b-4f6c-edeb-ba8b31a59b25"
      },
      "outputs": [
        {
          "data": {
            "text/plain": [
              "['0', '1', '2', '3', '4', '5', '6', '7', '8', '9']"
            ]
          },
          "execution_count": 77,
          "metadata": {},
          "output_type": "execute_result"
        }
      ],
      "source": [
        "class_names"
      ]
    },
    {
      "cell_type": "code",
      "execution_count": 78,
      "metadata": {
        "colab": {
          "base_uri": "https://localhost:8080/",
          "height": 865
        },
        "id": "zhcF5FZYfVuX",
        "outputId": "f68d2d5f-3060-4f6e-e9f9-796fc8872e5e"
      },
      "outputs": [
        {
          "data": {
            "image/png": "[encoded data removed]",
            "text/plain": [
              "<Figure size 2160x2160 with 90 Axes>"
            ]
          },
          "metadata": {
            "needs_background": "light"
          },
          "output_type": "display_data"
        }
      ],
      "source": [
        "augment_per_class(sample_data, class_names)"
      ]
    },
    {
      "cell_type": "markdown",
      "metadata": {
        "id": "AsyzldUoVDBg"
      },
      "source": [
        "#### Implementing the augmentation"
      ]
    },
    {
      "cell_type": "code",
      "execution_count": 79,
      "metadata": {
        "id": "Lk9xKq6We2K0"
      },
      "outputs": [],
      "source": [
        "from functools import partial\n",
        "train_ds = train_ds.map(partial(image_augment, img_size=img_resize),num_parallel_calls=AUTOTUNE).prefetch(AUTOTUNE)"
      ]
    },
    {
      "cell_type": "code",
      "execution_count": 80,
      "metadata": {
        "colab": {
          "base_uri": "https://localhost:8080/",
          "height": 607
        },
        "id": "ahVGUZKxZg-R",
        "outputId": "7d51ad3f-3527-4b8a-d008-3d33fe0f6c4f"
      },
      "outputs": [
        {
          "data": {
            "image/png": "[encoded data removed]",
            "text/plain": [
              "<Figure size 720x720 with 9 Axes>"
            ]
          },
          "metadata": {
            "needs_background": "light"
          },
          "output_type": "display_data"
        }
      ],
      "source": [
        "import matplotlib.pyplot as plt\n",
        "\n",
        "plt.figure(figsize=(10, 10))\n",
        "for i, (image, id) in enumerate(train_ds.take(9)):\n",
        "    ax = plt.subplot(3, 3, i + 1)\n",
        "    plt.imshow(image) \n",
        "    plt.title(str(int(id)))"
      ]
    },
    {
      "cell_type": "markdown",
      "metadata": {
        "id": "mYUuJ2k6flRu"
      },
      "source": [
        "### Dataset Optimization Config"
      ]
    },
    {
      "cell_type": "code",
      "execution_count": 81,
      "metadata": {
        "id": "LSpmi09qe_pj"
      },
      "outputs": [],
      "source": [
        "train_ds = train_ds.batch(batch_size).prefetch(AUTOTUNE)\n",
        "val_ds = val_ds.batch(batch_size).prefetch(AUTOTUNE)\n",
        "test_ds = test_ds.batch(batch_size).prefetch(AUTOTUNE)"
      ]
    },
    {
      "cell_type": "markdown",
      "metadata": {
        "id": "TEHndQdiOkcu"
      },
      "source": [
        "## Modelling"
      ]
    },
    {
      "cell_type": "markdown",
      "metadata": {
        "id": "YWqElK4IgBWO"
      },
      "source": [
        "### Basic Modelling"
      ]
    },
    {
      "cell_type": "markdown",
      "metadata": {
        "id": "LUi5_-Hf2oFt"
      },
      "source": [
        "#### Architecture"
      ]
    },
    {
      "cell_type": "code",
      "execution_count": 82,
      "metadata": {
        "id": "GMSIlM110LTj"
      },
      "outputs": [],
      "source": [
        "# Importing the required Keras modules containing model and layers\n",
        "from tensorflow.keras.models import Model\n",
        "from tensorflow.keras.layers import Dense, Conv2D, Dropout, Flatten, MaxPooling2D, Input\n",
        "# Creating a Sequential Model and adding the layers\n",
        "\n",
        "# input layer\n",
        "input = Input(shape=img_size)\n",
        "\n",
        "# 1. conv block\n",
        "x = Conv2D(32, kernel_size=(3,3))(input)\n",
        "x = MaxPooling2D(pool_size=(2, 2))(x)\n",
        "\n",
        "# 2. conv block\n",
        "x = Conv2D(64, kernel_size=(3,3))(x)\n",
        "x = MaxPooling2D(pool_size=(2, 2))(x)\n",
        "\n",
        "# fully connected layer\n",
        "x = Flatten()(x)\n",
        "x = Dense(128, activation=\"relu\")(x)\n",
        "x = Dropout(0.2)(x)\n",
        "\n",
        "# classifier Dense\n",
        "output = Dense(len(class_names), activation=\"softmax\")(x)\n",
        "\n",
        "\n",
        "# Connecting the model\n",
        "model = Model(input, output)"
      ]
    },
    {
      "cell_type": "code",
      "execution_count": 83,
      "metadata": {
        "colab": {
          "base_uri": "https://localhost:8080/"
        },
        "id": "rTZ0nCCC1W9m",
        "outputId": "33f666d9-0532-40ca-e64a-d9763e9e95cf"
      },
      "outputs": [
        {
          "name": "stdout",
          "output_type": "stream",
          "text": [
            "Model: \"model_1\"\n",
            "_________________________________________________________________\n",
            " Layer (type)                Output Shape              Param #   \n",
            "=================================================================\n",
            " input_2 (InputLayer)        [(None, 32, 32, 3)]       0         \n",
            "                                                                 \n",
            " conv2d_2 (Conv2D)           (None, 30, 30, 32)        896       \n",
            "                                                                 \n",
            " max_pooling2d_2 (MaxPooling  (None, 15, 15, 32)       0         \n",
            " 2D)                                                             \n",
            "                                                                 \n",
            " conv2d_3 (Conv2D)           (None, 13, 13, 64)        18496     \n",
            "                                                                 \n",
            " max_pooling2d_3 (MaxPooling  (None, 6, 6, 64)         0         \n",
            " 2D)                                                             \n",
            "                                                                 \n",
            " flatten_1 (Flatten)         (None, 2304)              0         \n",
            "                                                                 \n",
            " dense_2 (Dense)             (None, 128)               295040    \n",
            "                                                                 \n",
            " dropout_1 (Dropout)         (None, 128)               0         \n",
            "                                                                 \n",
            " dense_3 (Dense)             (None, 10)                1290      \n",
            "                                                                 \n",
            "=================================================================\n",
            "Total params: 315,722\n",
            "Trainable params: 315,722\n",
            "Non-trainable params: 0\n",
            "_________________________________________________________________\n"
          ]
        }
      ],
      "source": [
        "model.compile(optimizer='adam',  loss='sparse_categorical_crossentropy',  metrics=['accuracy'])\n",
        "model.summary()"
      ]
    },
    {
      "cell_type": "markdown",
      "metadata": {
        "id": "e6848qPI3E7U"
      },
      "source": [
        "#### Callbacks"
      ]
    },
    {
      "cell_type": "code",
      "execution_count": 84,
      "metadata": {
        "id": "LdqL6caj3E7V"
      },
      "outputs": [],
      "source": [
        "from tensorflow.keras.callbacks import ModelCheckpoint, EarlyStopping, TensorBoard, CSVLogger, LearningRateScheduler, ReduceLROnPlateau, LambdaCallback\n",
        "import numpy as np\n",
        "\n",
        "# Temporary save paths\n",
        "checkpoint_path = \"Temporary_Basic_ModelCheckpoint.h5\"\n",
        "tb_log_dir = \"./logs\""
      ]
    },
    {
      "cell_type": "code",
      "execution_count": 85,
      "metadata": {
        "id": "8Q1MYmMG3E7V"
      },
      "outputs": [],
      "source": [
        "callbacks = [\n",
        "    TensorBoard(log_dir=tb_log_dir),\n",
        "    ModelCheckpoint(filepath= checkpoint_path, save_best_only=True, save_weights_only=True, monitor='val_loss', mode='min', verbose=1),\n",
        "    EarlyStopping(monitor='val_loss', patience=2, verbose=1),\n",
        "    CSVLogger(filename='basic_training.log'),\n",
        "]"
      ]
    },
    {
      "cell_type": "markdown",
      "metadata": {
        "id": "YDsyoQjd29bd"
      },
      "source": [
        "#### Training"
      ]
    },
    {
      "cell_type": "code",
      "execution_count": 86,
      "metadata": {
        "colab": {
          "base_uri": "https://localhost:8080/"
        },
        "id": "_Lv9eDip0LRT",
        "outputId": "21cb44f1-8186-4264-da44-82668c29e9dc"
      },
      "outputs": [
        {
          "name": "stdout",
          "output_type": "stream",
          "text": [
            "Epoch 1/20\n",
            "188/188 [==============================] - ETA: 0s - loss: 0.3761 - accuracy: 0.8835\n",
            "Epoch 1: val_loss improved from inf to 0.08456, saving model to Temporary_Basic_ModelCheckpoint.h5\n",
            "188/188 [==============================] - 80s 366ms/step - loss: 0.3761 - accuracy: 0.8835 - val_loss: 0.0846 - val_accuracy: 0.9748\n",
            "Epoch 2/20\n",
            "188/188 [==============================] - ETA: 0s - loss: 0.1167 - accuracy: 0.9639\n",
            "Epoch 2: val_loss improved from 0.08456 to 0.06041, saving model to Temporary_Basic_ModelCheckpoint.h5\n",
            "188/188 [==============================] - 63s 335ms/step - loss: 0.1167 - accuracy: 0.9639 - val_loss: 0.0604 - val_accuracy: 0.9821\n",
            "Epoch 3/20\n",
            "188/188 [==============================] - ETA: 0s - loss: 0.0862 - accuracy: 0.9736\n",
            "Epoch 3: val_loss improved from 0.06041 to 0.04491, saving model to Temporary_Basic_ModelCheckpoint.h5\n",
            "188/188 [==============================] - 64s 342ms/step - loss: 0.0862 - accuracy: 0.9736 - val_loss: 0.0449 - val_accuracy: 0.9858\n",
            "Epoch 4/20\n",
            "188/188 [==============================] - ETA: 0s - loss: 0.0744 - accuracy: 0.9769\n",
            "Epoch 4: val_loss improved from 0.04491 to 0.04357, saving model to Temporary_Basic_ModelCheckpoint.h5\n",
            "188/188 [==============================] - 73s 386ms/step - loss: 0.0744 - accuracy: 0.9769 - val_loss: 0.0436 - val_accuracy: 0.9868\n",
            "Epoch 5/20\n",
            "188/188 [==============================] - ETA: 0s - loss: 0.0628 - accuracy: 0.9806\n",
            "Epoch 5: val_loss improved from 0.04357 to 0.04308, saving model to Temporary_Basic_ModelCheckpoint.h5\n",
            "188/188 [==============================] - 71s 378ms/step - loss: 0.0628 - accuracy: 0.9806 - val_loss: 0.0431 - val_accuracy: 0.9872\n",
            "Epoch 6/20\n",
            "188/188 [==============================] - ETA: 0s - loss: 0.0583 - accuracy: 0.9816\n",
            "Epoch 6: val_loss improved from 0.04308 to 0.04005, saving model to Temporary_Basic_ModelCheckpoint.h5\n",
            "188/188 [==============================] - 63s 335ms/step - loss: 0.0583 - accuracy: 0.9816 - val_loss: 0.0400 - val_accuracy: 0.9884\n",
            "Epoch 7/20\n",
            "188/188 [==============================] - ETA: 0s - loss: 0.0501 - accuracy: 0.9843\n",
            "Epoch 7: val_loss improved from 0.04005 to 0.03778, saving model to Temporary_Basic_ModelCheckpoint.h5\n",
            "188/188 [==============================] - 72s 383ms/step - loss: 0.0501 - accuracy: 0.9843 - val_loss: 0.0378 - val_accuracy: 0.9887\n",
            "Epoch 8/20\n",
            "188/188 [==============================] - ETA: 0s - loss: 0.0460 - accuracy: 0.9856\n",
            "Epoch 8: val_loss improved from 0.03778 to 0.03659, saving model to Temporary_Basic_ModelCheckpoint.h5\n",
            "188/188 [==============================] - 67s 358ms/step - loss: 0.0460 - accuracy: 0.9856 - val_loss: 0.0366 - val_accuracy: 0.9891\n",
            "Epoch 9/20\n",
            "188/188 [==============================] - ETA: 0s - loss: 0.0424 - accuracy: 0.9871\n",
            "Epoch 9: val_loss improved from 0.03659 to 0.03264, saving model to Temporary_Basic_ModelCheckpoint.h5\n",
            "188/188 [==============================] - 78s 412ms/step - loss: 0.0424 - accuracy: 0.9871 - val_loss: 0.0326 - val_accuracy: 0.9904\n",
            "Epoch 10/20\n",
            "188/188 [==============================] - ETA: 0s - loss: 0.0419 - accuracy: 0.9868\n",
            "Epoch 10: val_loss did not improve from 0.03264\n",
            "188/188 [==============================] - 67s 357ms/step - loss: 0.0419 - accuracy: 0.9868 - val_loss: 0.0337 - val_accuracy: 0.9903\n",
            "Epoch 11/20\n",
            "188/188 [==============================] - ETA: 0s - loss: 0.0406 - accuracy: 0.9874\n",
            "Epoch 11: val_loss did not improve from 0.03264\n",
            "188/188 [==============================] - 65s 347ms/step - loss: 0.0406 - accuracy: 0.9874 - val_loss: 0.0383 - val_accuracy: 0.9885\n",
            "Epoch 11: early stopping\n"
          ]
        }
      ],
      "source": [
        "history = model.fit(train_ds, validation_data = val_ds, callbacks=callbacks,  epochs=20) "
      ]
    },
    {
      "cell_type": "markdown",
      "metadata": {
        "id": "gzZN-Q1u28Kq"
      },
      "source": [
        "#### Visualiting Training History"
      ]
    },
    {
      "cell_type": "code",
      "execution_count": 87,
      "metadata": {
        "colab": {
          "base_uri": "https://localhost:8080/",
          "height": 475
        },
        "id": "iuSSRe2P28Kr",
        "outputId": "4340f263-b7ad-4b73-c341-e0514873d6cb"
      },
      "outputs": [
        {
          "data": {
            "text/plain": [
              "<matplotlib.legend.Legend at 0x7f058a628dc0>"
            ]
          },
          "execution_count": 87,
          "metadata": {},
          "output_type": "execute_result"
        },
        {
          "data": {
            "image/png": "[encoded data removed]",
            "text/plain": [
              "<Figure size 1440x720 with 2 Axes>"
            ]
          },
          "metadata": {
            "needs_background": "light"
          },
          "output_type": "display_data"
        }
      ],
      "source": [
        "#Display of the accuracy and the loss values\n",
        "import matplotlib.pyplot as plt\n",
        "\n",
        "plt.figure(figsize=(20,10))\n",
        "\n",
        "plt.subplot(2,1,1)\n",
        "plt.plot(history.history['accuracy'], label='training accuracy')\n",
        "plt.plot(history.history['val_accuracy'], label='val accuracy')\n",
        "plt.title('Accuracy')\n",
        "plt.xlabel('epochs')\n",
        "plt.ylabel('accuracy')\n",
        "plt.legend()\n",
        "\n",
        "\n",
        "plt.subplot(2,1,2)\n",
        "plt.plot(history.history['loss'], label='training loss')\n",
        "plt.plot(history.history['val_loss'], label='val loss')\n",
        "plt.title('Loss')\n",
        "plt.xlabel('epochs')\n",
        "plt.ylabel('loss')\n",
        "plt.legend()"
      ]
    },
    {
      "cell_type": "markdown",
      "metadata": {
        "id": "HkEp8GsZ4w_n"
      },
      "source": [
        "#### Downloading the basic model"
      ]
    },
    {
      "cell_type": "markdown",
      "metadata": {
        "id": "kAuHwu494zcx"
      },
      "source": [
        "##### Save the best model"
      ]
    },
    {
      "cell_type": "code",
      "execution_count": 88,
      "metadata": {
        "id": "ve2uyqRY4zcy"
      },
      "outputs": [],
      "source": [
        "# Load the best weights\n",
        "model.load_weights(checkpoint_path)\n",
        "\n",
        "# best_model = tf.keras.models.load_model('saved_model/my_model') # best_model_save_path"
      ]
    },
    {
      "cell_type": "code",
      "execution_count": 90,
      "metadata": {
        "colab": {
          "base_uri": "https://localhost:8080/"
        },
        "id": "daEg-VUpyJhu",
        "outputId": "e9dd7be3-bb3f-43d7-d2d2-745ae8349bc8"
      },
      "outputs": [
        {
          "name": "stdout",
          "output_type": "stream",
          "text": [
            "47/47 [==============================] - 1s 15ms/step - loss: 0.0327 - accuracy: 0.9905\n"
          ]
        },
        {
          "data": {
            "text/plain": [
              "[0.03269750252366066, 0.9904999732971191]"
            ]
          },
          "execution_count": 90,
          "metadata": {},
          "output_type": "execute_result"
        }
      ],
      "source": [
        "model.evaluate(val_ds)"
      ]
    },
    {
      "cell_type": "code",
      "execution_count": 89,
      "metadata": {
        "colab": {
          "base_uri": "https://localhost:8080/"
        },
        "id": "CMKfwrao4zcz",
        "outputId": "3e1e1ed6-0bb8-4e05-d721-51c8e86e13ce"
      },
      "outputs": [
        {
          "name": "stderr",
          "output_type": "stream",
          "text": [
            "WARNING:absl:Found untraced functions such as _jit_compiled_convolution_op, _jit_compiled_convolution_op while saving (showing 2 of 2). These functions will not be directly callable after loading.\n"
          ]
        }
      ],
      "source": [
        "from datetime import datetime\n",
        "\n",
        "\n",
        "now = datetime.now().strftime(\"%m-%d-%Y_%H:%M:%S\")\n",
        "best_model_save_path = f\"Basic_{model.name}_{now}\" \n",
        "\n",
        "\n",
        "model.save(best_model_save_path)"
      ]
    },
    {
      "cell_type": "markdown",
      "metadata": {
        "id": "d2Q5-7t54zc1"
      },
      "source": [
        "##### Select the model path"
      ]
    },
    {
      "cell_type": "code",
      "execution_count": 91,
      "metadata": {
        "colab": {
          "base_uri": "https://localhost:8080/",
          "height": 35
        },
        "id": "1Mjf68AQ4zc1",
        "outputId": "b42dd823-b413-4599-a66a-39ed4241c862"
      },
      "outputs": [
        {
          "data": {
            "application/vnd.google.colaboratory.intrinsic+json": {
              "type": "string"
            },
            "text/plain": [
              "'Basic_model_1_03-06-2023_21:25:35'"
            ]
          },
          "execution_count": 91,
          "metadata": {},
          "output_type": "execute_result"
        }
      ],
      "source": [
        "best_model_save_path"
      ]
    },
    {
      "cell_type": "markdown",
      "metadata": {
        "id": "vw4sQaFq4zc3"
      },
      "source": [
        "##### Zip the model"
      ]
    },
    {
      "cell_type": "code",
      "execution_count": 92,
      "metadata": {
        "id": "ZFKE9fQA4zc4"
      },
      "outputs": [],
      "source": [
        "dst, src = f\"{best_model_save_path}.zip\", best_model_save_path"
      ]
    },
    {
      "cell_type": "code",
      "execution_count": 93,
      "metadata": {
        "colab": {
          "base_uri": "https://localhost:8080/"
        },
        "id": "plrpA1pV5OsY",
        "outputId": "8ed6e57d-bc1f-4472-bb07-44586389c728"
      },
      "outputs": [
        {
          "data": {
            "text/plain": [
              "0"
            ]
          },
          "execution_count": 93,
          "metadata": {},
          "output_type": "execute_result"
        }
      ],
      "source": [
        "import os\n",
        "# Zipping the model to download\n",
        "os.system(f\"zip -r {dst} {src}\")"
      ]
    },
    {
      "cell_type": "markdown",
      "metadata": {
        "id": "tzQThvcu47Ks"
      },
      "source": [
        "##### Download the model"
      ]
    },
    {
      "cell_type": "code",
      "execution_count": 94,
      "metadata": {
        "colab": {
          "base_uri": "https://localhost:8080/",
          "height": 17
        },
        "id": "pErLdYmg4zc5",
        "outputId": "457c3732-b37e-4e2b-d237-c386db810124"
      },
      "outputs": [
        {
          "data": {
            "application/javascript": "\n    async function download(id, filename, size) {\n      if (!google.colab.kernel.accessAllowed) {\n        return;\n      }\n      const div = document.createElement('div');\n      const label = document.createElement('label');\n      label.textContent = `Downloading \"${filename}\": `;\n      div.appendChild(label);\n      const progress = document.createElement('progress');\n      progress.max = size;\n      div.appendChild(progress);\n      document.body.appendChild(div);\n\n      const buffers = [];\n      let downloaded = 0;\n\n      const channel = await google.colab.kernel.comms.open(id);\n      // Send a message to notify the kernel that we're ready.\n      channel.send({})\n\n      for await (const message of channel.messages) {\n        // Send a message to notify the kernel that we're ready.\n        channel.send({})\n        if (message.buffers) {\n          for (const buffer of message.buffers) {\n            buffers.push(buffer);\n            downloaded += buffer.byteLength;\n            progress.value = downloaded;\n          }\n        }\n      }\n      const blob = new Blob(buffers, {type: 'application/binary'});\n      const a = document.createElement('a');\n      a.href = window.URL.createObjectURL(blob);\n      a.download = filename;\n      div.appendChild(a);\n      a.click();\n      div.remove();\n    }\n  ",
            "text/plain": [
              "<IPython.core.display.Javascript object>"
            ]
          },
          "metadata": {},
          "output_type": "display_data"
        },
        {
          "data": {
            "application/javascript": "download(\"download_15474dd7-edf6-4091-b1b5-d1b6c6cfcd76\", \"Basic_model_1_03-06-2023_21:25:35.zip\", 3529064)",
            "text/plain": [
              "<IPython.core.display.Javascript object>"
            ]
          },
          "metadata": {},
          "output_type": "display_data"
        }
      ],
      "source": [
        "# Downloading the zipped model into the local\n",
        "from google.colab import files\n",
        "files.download(dst)"
      ]
    },
    {
      "cell_type": "markdown",
      "metadata": {
        "id": "RXJ_CurM2kfH"
      },
      "source": [
        "### Transfer Learning"
      ]
    },
    {
      "cell_type": "markdown",
      "metadata": {
        "id": "-d6IRdOZgDIq"
      },
      "source": [
        "#### Base Model"
      ]
    },
    {
      "cell_type": "code",
      "execution_count": null,
      "metadata": {
        "colab": {
          "base_uri": "https://localhost:8080/"
        },
        "id": "PGQ7utrbeFPn",
        "outputId": "88c8cff7-6953-4cde-9828-b93f9c6aea52"
      },
      "outputs": [
        {
          "name": "stderr",
          "output_type": "stream",
          "text": [
            "WARNING:tensorflow:`input_shape` is undefined or non-square, or `rows` is not in [96, 128, 160, 192, 224]. Weights for input shape (224, 224) will be loaded as the default.\n"
          ]
        }
      ],
      "source": [
        "# Load a pre-trained model\n",
        "base_model = tf.keras.applications.MobileNetV2(weights='imagenet', include_top=False, input_shape=img_size)\n",
        "\n",
        "# Freeze the base model\n",
        "base_model.trainable = False"
      ]
    },
    {
      "cell_type": "markdown",
      "metadata": {
        "id": "2OadUhWlgG8J"
      },
      "source": [
        "#### Architectures\n",
        "\n",
        "- Architectures\n",
        "  - Classic Convolutional Neural Network (CNN) based models:\n",
        "    - LeNet-5\n",
        "    - AlexNet\n",
        "    - ZFNet\n",
        "    - VGGNet\n",
        "    - ResNet\n",
        "    - InceptionNet\n",
        "    - Xception\n",
        "  - Residual Network (ResNet) based models:\n",
        "    - ResNet\n",
        "    - ResNeXt\n",
        "    - DenseNet\n",
        "  - Attention-based models:\n",
        "    - SE-Net\n",
        "    - CBAM-Net\n",
        "    - Non-local Neural Networks\n",
        "  - Lightweight models:\n",
        "    - MobileNet\n",
        "    - ShuffleNet\n",
        "    - EfficientNet\n",
        "    - MnasNet\n",
        "  - Object Detection models:\n",
        "    - YOLO (You Only Look Once)\n",
        "    - SSD (Single Shot MultiBox Detector)\n",
        "    - Faster R-CNN\n",
        "    - Mask R-CNN\n",
        "\n",
        "Sequential Model\n",
        "```python\n",
        "# Add a custom head on top of the base model\n",
        "model = tf.keras.Sequential([\n",
        "    base_model,\n",
        "    tf.keras.layers.GlobalAveragePooling2D(),\n",
        "    tf.keras.layers.Dense(5, activation='softmax')\n",
        "])\n",
        "\n",
        "\n",
        "# Compile the model\n",
        "model.compile(optimizer='adam', loss='sparse_categorical_crossentropy', metrics=['accuracy'])\n",
        "\n",
        "```\n",
        "\n",
        "Functional Model\n",
        "```python\n",
        "# Add a custom head on top of the base model\n",
        "model = tf.keras.Sequential([\n",
        "    base_model,\n",
        "    tf.keras.layers.GlobalAveragePooling2D(),\n",
        "    tf.keras.layers.Dense(5, activation='softmax')\n",
        "])\n",
        "\n",
        "\n",
        "# Compile the model\n",
        "model.compile(optimizer='adam', loss='sparse_categorical_crossentropy', metrics=['accuracy'])\n",
        "\n",
        "```"
      ]
    },
    {
      "cell_type": "code",
      "execution_count": null,
      "metadata": {
        "id": "x55sBuFdeKvf"
      },
      "outputs": [],
      "source": [
        "# Add a custom head on top of the base model\n",
        "model = tf.keras.Sequential([\n",
        "    base_model,\n",
        "    tf.keras.layers.GlobalAveragePooling2D(),\n",
        "    tf.keras.layers.Dense(len(class_names), activation='softmax')\n",
        "])\n",
        "\n",
        "\n",
        "# Compile the model\n",
        "model.compile(optimizer='adam', loss='sparse_categorical_crossentropy', metrics=['accuracy'])"
      ]
    },
    {
      "cell_type": "markdown",
      "metadata": {
        "id": "G9EqZ6bHgJfh"
      },
      "source": [
        "#### Callbacks"
      ]
    },
    {
      "cell_type": "code",
      "execution_count": null,
      "metadata": {
        "id": "JIcuZ7v3eKtj"
      },
      "outputs": [],
      "source": [
        "from tensorflow.keras.callbacks import ModelCheckpoint, EarlyStopping, TensorBoard, CSVLogger, LearningRateScheduler, ReduceLROnPlateau, LambdaCallback\n",
        "import numpy as np\n",
        "\n",
        "def step_decay(epoch):\n",
        "    initial_lrate = 0.1\n",
        "    drop = 0.5\n",
        "    epochs_drop = 5.0\n",
        "    lrate = initial_lrate * np.power(drop, np.floor((1+epoch)/epochs_drop))\n",
        "    return lrate\n",
        "\n",
        "def print_current_lr(epoch, logs):\n",
        "    print(\"Learning rate in epoch {} is {}\".format(epoch, float(tf.keras.backend.get_value(model.optimizer.lr))))\n",
        "\n",
        "# Temporary save paths\n",
        "checkpoint_path = \"TemporaryModel_ModelCheckpoint.h5\"\n",
        "tb_log_dir = \"./logs\""
      ]
    },
    {
      "cell_type": "code",
      "execution_count": null,
      "metadata": {
        "id": "_oVTwn3KvbU6"
      },
      "outputs": [],
      "source": [
        "callbacks = [\n",
        "    LearningRateScheduler(step_decay),\n",
        "    TensorBoard(log_dir=tb_log_dir),\n",
        "    ModelCheckpoint(filepath= checkpoint_path, save_best_only=True, save_weights_only=True, monitor='val_loss', mode='min', verbose=1),\n",
        "    EarlyStopping(monitor='val_loss', patience=6, verbose=1),\n",
        "    CSVLogger(filename='training.log'),\n",
        "    LambdaCallback(on_epoch_end=print_current_lr)\n",
        "]"
      ]
    },
    {
      "cell_type": "markdown",
      "metadata": {
        "id": "G_sM6AAHgLbz"
      },
      "source": [
        "#### Training"
      ]
    },
    {
      "cell_type": "code",
      "execution_count": null,
      "metadata": {
        "colab": {
          "base_uri": "https://localhost:8080/"
        },
        "id": "mS48yKu2eKrb",
        "outputId": "67ee60cd-9cad-4a84-99a4-c907adc4e840"
      },
      "outputs": [
        {
          "name": "stdout",
          "output_type": "stream",
          "text": [
            "Epoch 1/150\n",
            "188/188 [==============================] - ETA: 0s - loss: 1.1001 - accuracy: 0.6247\n",
            "Epoch 1: val_loss improved from inf to 1.02402, saving model to TemporaryModel_ModelCheckpoint.h5\n",
            "Learning rate in epoch 0 is 0.10000000149011612\n",
            "188/188 [==============================] - 66s 349ms/step - loss: 1.1001 - accuracy: 0.6247 - val_loss: 1.0240 - val_accuracy: 0.6499 - lr: 0.1000\n",
            "Epoch 2/150\n",
            "188/188 [==============================] - ETA: 0s - loss: 1.0901 - accuracy: 0.6299\n",
            "Epoch 2: val_loss did not improve from 1.02402\n",
            "Learning rate in epoch 1 is 0.10000000149011612\n",
            "188/188 [==============================] - 150s 799ms/step - loss: 1.0901 - accuracy: 0.6299 - val_loss: 1.0272 - val_accuracy: 0.6541 - lr: 0.1000\n",
            "Epoch 3/150\n",
            "188/188 [==============================] - ETA: 0s - loss: 1.0969 - accuracy: 0.6248\n",
            "Epoch 3: val_loss improved from 1.02402 to 1.01511, saving model to TemporaryModel_ModelCheckpoint.h5\n",
            "Learning rate in epoch 2 is 0.10000000149011612\n",
            "188/188 [==============================] - 71s 379ms/step - loss: 1.0969 - accuracy: 0.6248 - val_loss: 1.0151 - val_accuracy: 0.6555 - lr: 0.1000\n",
            "Epoch 4/150\n",
            "188/188 [==============================] - ETA: 0s - loss: 1.0893 - accuracy: 0.6284\n",
            "Epoch 4: val_loss did not improve from 1.01511\n",
            "Learning rate in epoch 3 is 0.10000000149011612\n",
            "188/188 [==============================] - 68s 359ms/step - loss: 1.0893 - accuracy: 0.6284 - val_loss: 1.0194 - val_accuracy: 0.6574 - lr: 0.1000\n",
            "Epoch 5/150\n",
            "188/188 [==============================] - ETA: 0s - loss: 1.0749 - accuracy: 0.6344\n",
            "Epoch 5: val_loss improved from 1.01511 to 1.01412, saving model to TemporaryModel_ModelCheckpoint.h5\n",
            "Learning rate in epoch 4 is 0.05000000074505806\n",
            "188/188 [==============================] - 69s 365ms/step - loss: 1.0749 - accuracy: 0.6344 - val_loss: 1.0141 - val_accuracy: 0.6548 - lr: 0.0500\n",
            "Epoch 6/150\n",
            "188/188 [==============================] - ETA: 0s - loss: 1.0659 - accuracy: 0.6383\n",
            "Epoch 6: val_loss improved from 1.01412 to 1.00415, saving model to TemporaryModel_ModelCheckpoint.h5\n",
            "Learning rate in epoch 5 is 0.05000000074505806\n",
            "188/188 [==============================] - 67s 354ms/step - loss: 1.0659 - accuracy: 0.6383 - val_loss: 1.0041 - val_accuracy: 0.6561 - lr: 0.0500\n",
            "Epoch 7/150\n",
            "188/188 [==============================] - ETA: 0s - loss: 1.0700 - accuracy: 0.6371\n",
            "Epoch 7: val_loss did not improve from 1.00415\n",
            "Learning rate in epoch 6 is 0.05000000074505806\n",
            "188/188 [==============================] - 67s 358ms/step - loss: 1.0700 - accuracy: 0.6371 - val_loss: 1.0112 - val_accuracy: 0.6564 - lr: 0.0500\n",
            "Epoch 8/150\n",
            "188/188 [==============================] - ETA: 0s - loss: 1.0726 - accuracy: 0.6371\n",
            "Epoch 8: val_loss did not improve from 1.00415\n",
            "Learning rate in epoch 7 is 0.05000000074505806\n",
            "188/188 [==============================] - 68s 364ms/step - loss: 1.0726 - accuracy: 0.6371 - val_loss: 1.0074 - val_accuracy: 0.6556 - lr: 0.0500\n",
            "Epoch 9/150\n",
            "188/188 [==============================] - ETA: 0s - loss: 1.0627 - accuracy: 0.6371\n",
            "Epoch 9: val_loss did not improve from 1.00415\n",
            "Learning rate in epoch 8 is 0.05000000074505806\n",
            "188/188 [==============================] - 66s 349ms/step - loss: 1.0627 - accuracy: 0.6371 - val_loss: 1.0077 - val_accuracy: 0.6534 - lr: 0.0500\n",
            "Epoch 10/150\n",
            "188/188 [==============================] - ETA: 0s - loss: 1.0531 - accuracy: 0.6413\n",
            "Epoch 10: val_loss did not improve from 1.00415\n",
            "Learning rate in epoch 9 is 0.02500000037252903\n",
            "188/188 [==============================] - 66s 352ms/step - loss: 1.0531 - accuracy: 0.6413 - val_loss: 1.0046 - val_accuracy: 0.6566 - lr: 0.0250\n",
            "Epoch 11/150\n",
            "188/188 [==============================] - ETA: 0s - loss: 1.0595 - accuracy: 0.6395\n",
            "Epoch 11: val_loss improved from 1.00415 to 1.00404, saving model to TemporaryModel_ModelCheckpoint.h5\n",
            "Learning rate in epoch 10 is 0.02500000037252903\n",
            "188/188 [==============================] - 66s 351ms/step - loss: 1.0595 - accuracy: 0.6395 - val_loss: 1.0040 - val_accuracy: 0.6571 - lr: 0.0250\n",
            "Epoch 12/150\n",
            "188/188 [==============================] - ETA: 0s - loss: 1.0632 - accuracy: 0.6389\n",
            "Epoch 12: val_loss improved from 1.00404 to 0.99991, saving model to TemporaryModel_ModelCheckpoint.h5\n",
            "Learning rate in epoch 11 is 0.02500000037252903\n",
            "188/188 [==============================] - 64s 340ms/step - loss: 1.0632 - accuracy: 0.6389 - val_loss: 0.9999 - val_accuracy: 0.6586 - lr: 0.0250\n",
            "Epoch 13/150\n",
            "188/188 [==============================] - ETA: 0s - loss: 1.0605 - accuracy: 0.6370\n",
            "Epoch 13: val_loss did not improve from 0.99991\n",
            "Learning rate in epoch 12 is 0.02500000037252903\n",
            "188/188 [==============================] - 65s 344ms/step - loss: 1.0605 - accuracy: 0.6370 - val_loss: 1.0045 - val_accuracy: 0.6544 - lr: 0.0250\n",
            "Epoch 14/150\n",
            "188/188 [==============================] - ETA: 0s - loss: 1.0597 - accuracy: 0.6393\n",
            "Epoch 14: val_loss improved from 0.99991 to 0.99787, saving model to TemporaryModel_ModelCheckpoint.h5\n",
            "Learning rate in epoch 13 is 0.02500000037252903\n",
            "188/188 [==============================] - 65s 347ms/step - loss: 1.0597 - accuracy: 0.6393 - val_loss: 0.9979 - val_accuracy: 0.6579 - lr: 0.0250\n",
            "Epoch 15/150\n",
            "188/188 [==============================] - ETA: 0s - loss: 1.0562 - accuracy: 0.6393\n",
            "Epoch 15: val_loss did not improve from 0.99787\n",
            "Learning rate in epoch 14 is 0.012500000186264515\n",
            "188/188 [==============================] - 64s 341ms/step - loss: 1.0562 - accuracy: 0.6393 - val_loss: 0.9982 - val_accuracy: 0.6606 - lr: 0.0125\n",
            "Epoch 16/150\n",
            "188/188 [==============================] - ETA: 0s - loss: 1.0541 - accuracy: 0.6409\n",
            "Epoch 16: val_loss improved from 0.99787 to 0.99563, saving model to TemporaryModel_ModelCheckpoint.h5\n",
            "Learning rate in epoch 15 is 0.012500000186264515\n",
            "188/188 [==============================] - 68s 360ms/step - loss: 1.0541 - accuracy: 0.6409 - val_loss: 0.9956 - val_accuracy: 0.6607 - lr: 0.0125\n",
            "Epoch 17/150\n",
            "188/188 [==============================] - ETA: 0s - loss: 1.0525 - accuracy: 0.6424\n",
            "Epoch 17: val_loss did not improve from 0.99563\n",
            "Learning rate in epoch 16 is 0.012500000186264515\n",
            "188/188 [==============================] - 64s 339ms/step - loss: 1.0525 - accuracy: 0.6424 - val_loss: 1.0015 - val_accuracy: 0.6587 - lr: 0.0125\n",
            "Epoch 18/150\n",
            "188/188 [==============================] - ETA: 0s - loss: 1.0563 - accuracy: 0.6409\n",
            "Epoch 18: val_loss did not improve from 0.99563\n",
            "Learning rate in epoch 17 is 0.012500000186264515\n",
            "188/188 [==============================] - 64s 343ms/step - loss: 1.0563 - accuracy: 0.6409 - val_loss: 1.0029 - val_accuracy: 0.6569 - lr: 0.0125\n",
            "Epoch 19/150\n",
            "188/188 [==============================] - ETA: 0s - loss: 1.0550 - accuracy: 0.6386\n",
            "Epoch 19: val_loss did not improve from 0.99563\n",
            "Learning rate in epoch 18 is 0.012500000186264515\n",
            "188/188 [==============================] - 66s 349ms/step - loss: 1.0550 - accuracy: 0.6386 - val_loss: 0.9968 - val_accuracy: 0.6584 - lr: 0.0125\n",
            "Epoch 20/150\n",
            "145/188 [======================>.......] - ETA: 14s - loss: 1.0458 - accuracy: 0.6423"
          ]
        }
      ],
      "source": [
        "# Train the model\n",
        "history = model.fit(train_ds, validation_data = val_ds, callbacks=callbacks, epochs=150) #callbacks=callbacks,"
      ]
    },
    {
      "cell_type": "markdown",
      "metadata": {
        "id": "P9ZY7lVfqoqL"
      },
      "source": [
        "#### Visualiting Training History"
      ]
    },
    {
      "cell_type": "code",
      "execution_count": null,
      "metadata": {
        "id": "AwE1WopcqoqL"
      },
      "outputs": [],
      "source": [
        "#Display of the accuracy and the loss values\n",
        "import matplotlib.pyplot as plt\n",
        "\n",
        "plt.figure(figsize=(20,10))\n",
        "\n",
        "plt.subplot(2,1,1)\n",
        "plt.plot(history.history['accuracy'], label='training accuracy')\n",
        "plt.plot(history.history['val_accuracy'], label='val accuracy')\n",
        "plt.title('Accuracy')\n",
        "plt.xlabel('epochs')\n",
        "plt.ylabel('accuracy')\n",
        "plt.legend()\n",
        "\n",
        "\n",
        "plt.subplot(2,1,2)\n",
        "plt.plot(history.history['loss'], label='training loss')\n",
        "plt.plot(history.history['val_loss'], label='val loss')\n",
        "plt.title('Loss')\n",
        "plt.xlabel('epochs')\n",
        "plt.ylabel('loss')\n",
        "plt.legend()"
      ]
    },
    {
      "cell_type": "markdown",
      "metadata": {
        "id": "1E4XXLjJ3rSR"
      },
      "source": [
        "### Fine-Tuning"
      ]
    },
    {
      "cell_type": "code",
      "execution_count": null,
      "metadata": {
        "id": "_0bXpPNv3rHZ"
      },
      "outputs": [],
      "source": []
    },
    {
      "cell_type": "markdown",
      "metadata": {
        "id": "punSsPs9gfeu"
      },
      "source": [
        "### Model Saving"
      ]
    },
    {
      "cell_type": "markdown",
      "metadata": {
        "id": "rJyL9mw-uZWy"
      },
      "source": [
        "#### Save the best model"
      ]
    },
    {
      "cell_type": "code",
      "execution_count": null,
      "metadata": {
        "id": "UQiiQ_1KeKo0"
      },
      "outputs": [],
      "source": [
        "# Load the best weights\n",
        "model.load_weights(checkpoint_path)\n",
        "\n",
        "# best_model = tf.keras.models.load_model('saved_model/my_model') # best_model_save_path"
      ]
    },
    {
      "cell_type": "code",
      "execution_count": null,
      "metadata": {
        "colab": {
          "base_uri": "https://localhost:8080/"
        },
        "id": "hCFvjBl0eKjV",
        "outputId": "0c27de16-b470-4f36-8efb-bd3b0bc66e2c"
      },
      "outputs": [
        {
          "name": "stderr",
          "output_type": "stream",
          "text": [
            "WARNING:absl:Function `_wrapped_model` contains input name(s) mobilenetv2_1.00_224_input with unsupported characters which will be renamed to mobilenetv2_1_00_224_input in the SavedModel.\n",
            "WARNING:absl:Found untraced functions such as _jit_compiled_convolution_op, _jit_compiled_convolution_op, _jit_compiled_convolution_op, _jit_compiled_convolution_op, _jit_compiled_convolution_op while saving (showing 5 of 52). These functions will not be directly callable after loading.\n"
          ]
        }
      ],
      "source": [
        "from datetime import datetime\n",
        "\n",
        "\n",
        "now = datetime.now().strftime(\"%m-%d-%Y_%H:%M:%S\")\n",
        "best_model_save_path = f\"{model.name}_{now}\" \n",
        "\n",
        "\n",
        "model.save(best_model_save_path)"
      ]
    },
    {
      "cell_type": "markdown",
      "metadata": {
        "id": "y_Evs6DyPTpn"
      },
      "source": [
        "#### Downloading the models"
      ]
    },
    {
      "cell_type": "markdown",
      "metadata": {
        "id": "htMl1P3DPTpo"
      },
      "source": [
        "##### Select the model path"
      ]
    },
    {
      "cell_type": "code",
      "execution_count": null,
      "metadata": {
        "colab": {
          "base_uri": "https://localhost:8080/",
          "height": 35
        },
        "id": "e6YB7nnOPTpo",
        "outputId": "7fa56ffa-ed16-417b-cfc0-0d6e10567f69"
      },
      "outputs": [
        {
          "data": {
            "application/vnd.google.colaboratory.intrinsic+json": {
              "type": "string"
            },
            "text/plain": [
              "'best_model_02-09-2023_14:45:40'"
            ]
          },
          "execution_count": 37,
          "metadata": {},
          "output_type": "execute_result"
        }
      ],
      "source": [
        "model_path = best_model_save_path\n",
        "all_models = best_model_save_path #\"/content/Models\"\n",
        "best_model_save_path"
      ]
    },
    {
      "cell_type": "markdown",
      "metadata": {
        "id": "dVEKdRiSPTpp"
      },
      "source": [
        "##### Zip the model"
      ]
    },
    {
      "cell_type": "markdown",
      "metadata": {
        "id": "Ll-74aMmpVqv"
      },
      "source": [
        "###### Alternative Zipping -1 \n",
        "\n",
        "```python\n",
        "import os, shutil\n",
        "zipped_dir = all_models\n",
        "shutil.make_archive(zipped_dir, 'zip', \".\")\n",
        "```"
      ]
    },
    {
      "cell_type": "markdown",
      "metadata": {
        "id": "mdx78mj_pbO7"
      },
      "source": [
        "###### Alternative Zipping - 2\n",
        "```python\n",
        "# Zipping via Bash code, if shutil didn't work\n",
        "!zip -r \"/content/model.zip\" \"/content/Model\"\n",
        "\n",
        "# Copy the file into google drive\n",
        "!cp -rv '/content/file.zip' '/content/drive/MyDrive/Home'\n",
        "\n",
        "# Download the model into your local\n",
        "from google.colab import files\n",
        "files.download('/content/file.zip')\n",
        "```"
      ]
    },
    {
      "cell_type": "code",
      "execution_count": null,
      "metadata": {
        "id": "OPuVbTRStJ-q"
      },
      "outputs": [],
      "source": [
        "from google.colab import drive, files\n",
        "import os\n",
        "\n",
        "# Connecting the drive\n",
        "drive.mount('/gdrive')"
      ]
    },
    {
      "cell_type": "code",
      "execution_count": null,
      "metadata": {
        "colab": {
          "base_uri": "https://localhost:8080/"
        },
        "id": "tA6JWSQoocqV",
        "outputId": "ea10967b-2ebc-44ff-eb00-70d9287e9b43"
      },
      "outputs": [
        {
          "data": {
            "text/plain": [
              "('best_model_02-09-2023_14:45:40.zip', 'best_model_02-09-2023_14:45:40')"
            ]
          },
          "execution_count": 40,
          "metadata": {},
          "output_type": "execute_result"
        }
      ],
      "source": [
        "dst, src = f\"{best_model_save_path}.zip\", best_model_save_path\n",
        "dst_g_disk = \"/content/drive/MyDrive/Home\""
      ]
    },
    {
      "cell_type": "code",
      "execution_count": null,
      "metadata": {
        "colab": {
          "base_uri": "https://localhost:8080/"
        },
        "id": "d8aR8AnqrH2I",
        "outputId": "40971aef-10e4-4475-8b8b-cb08c0d2dd6e"
      },
      "outputs": [
        {
          "data": {
            "text/plain": [
              "0"
            ]
          },
          "execution_count": 44,
          "metadata": {},
          "output_type": "execute_result"
        }
      ],
      "source": [
        "# Zipping the model to download\n",
        "os.system(f\"zip -r {dst} {src}\")"
      ]
    },
    {
      "cell_type": "code",
      "execution_count": null,
      "metadata": {
        "id": "UkeLT8T1t-u4"
      },
      "outputs": [],
      "source": [
        "# Copying the zipped model into google drive\n",
        "os.system(f\"cp -rv {dst} {dst_g_disk}\")"
      ]
    },
    {
      "cell_type": "markdown",
      "metadata": {
        "id": "0kmyCMwwPTps"
      },
      "source": [
        "##### Download the zipped file into the local"
      ]
    },
    {
      "cell_type": "code",
      "execution_count": null,
      "metadata": {
        "colab": {
          "base_uri": "https://localhost:8080/",
          "height": 17
        },
        "id": "5mPGUI2zPTpt",
        "outputId": "a38155de-a3e4-4908-bdea-8dd09326e7cc"
      },
      "outputs": [
        {
          "data": {
            "application/javascript": "\n    async function download(id, filename, size) {\n      if (!google.colab.kernel.accessAllowed) {\n        return;\n      }\n      const div = document.createElement('div');\n      const label = document.createElement('label');\n      label.textContent = `Downloading \"${filename}\": `;\n      div.appendChild(label);\n      const progress = document.createElement('progress');\n      progress.max = size;\n      div.appendChild(progress);\n      document.body.appendChild(div);\n\n      const buffers = [];\n      let downloaded = 0;\n\n      const channel = await google.colab.kernel.comms.open(id);\n      // Send a message to notify the kernel that we're ready.\n      channel.send({})\n\n      for await (const message of channel.messages) {\n        // Send a message to notify the kernel that we're ready.\n        channel.send({})\n        if (message.buffers) {\n          for (const buffer of message.buffers) {\n            buffers.push(buffer);\n            downloaded += buffer.byteLength;\n            progress.value = downloaded;\n          }\n        }\n      }\n      const blob = new Blob(buffers, {type: 'application/binary'});\n      const a = document.createElement('a');\n      a.href = window.URL.createObjectURL(blob);\n      a.download = filename;\n      div.appendChild(a);\n      a.click();\n      div.remove();\n    }\n  ",
            "text/plain": [
              "<IPython.core.display.Javascript object>"
            ]
          },
          "metadata": {},
          "output_type": "display_data"
        },
        {
          "data": {
            "application/javascript": "download(\"download_9474e0f1-692a-4d77-bd2c-3e33e212ef6a\", \"best_model_02-09-2023_14:45:40.zip\", 8806333)",
            "text/plain": [
              "<IPython.core.display.Javascript object>"
            ]
          },
          "metadata": {},
          "output_type": "display_data"
        }
      ],
      "source": [
        "# Downloading the zipped model into the local\n",
        "from google.colab import files\n",
        "files.download(dst)"
      ]
    },
    {
      "cell_type": "markdown",
      "metadata": {
        "id": "Z0mw9Q-21fVM"
      },
      "source": [
        "## Deployment Web app"
      ]
    },
    {
      "cell_type": "code",
      "execution_count": 1,
      "metadata": {
        "colab": {
          "base_uri": "https://localhost:8080/"
        },
        "id": "E2o_C2Ti2Z7b",
        "outputId": "e20eb94f-b82f-4f50-d2ec-72b59b1371d5"
      },
      "outputs": [
        {
          "name": "stdout",
          "output_type": "stream",
          "text": [
            "Looking in indexes: https://pypi.org/simple, https://us-python.pkg.dev/colab-wheels/public/simple/\n",
            "Collecting gradio\n",
            "  Downloading gradio-3.20.1-py3-none-any.whl (14.3 MB)\n",
            "\u001b[2K     \u001b[90m━━━━━━━━━━━━━━━━━━━━━━━━━━━━━━━━━━━━━━━━\u001b[0m \u001b[32m14.3/14.3 MB\u001b[0m \u001b[31m43.8 MB/s\u001b[0m eta \u001b[36m0:00:00\u001b[0m\n",
            "\u001b[?25hCollecting orjson\n",
            "  Downloading orjson-3.8.7-cp38-cp38-manylinux_2_28_x86_64.whl (140 kB)\n",
            "\u001b[2K     \u001b[90m━━━━━━━━━━━━━━━━━━━━━━━━━━━━━━━━━━━━━━━\u001b[0m \u001b[32m140.7/140.7 KB\u001b[0m \u001b[31m3.6 MB/s\u001b[0m eta \u001b[36m0:00:00\u001b[0m\n",
            "\u001b[?25hCollecting mdit-py-plugins<=0.3.3\n",
            "  Downloading mdit_py_plugins-0.3.3-py3-none-any.whl (50 kB)\n",
            "\u001b[2K     \u001b[90m━━━━━━━━━━━━━━━━━━━━━━━━━━━━━━━━━━━━━━━━\u001b[0m \u001b[32m50.5/50.5 KB\u001b[0m \u001b[31m3.4 MB/s\u001b[0m eta \u001b[36m0:00:00\u001b[0m\n",
            "\u001b[?25hCollecting httpx\n",
            "  Downloading httpx-0.23.3-py3-none-any.whl (71 kB)\n",
            "\u001b[2K     \u001b[90m━━━━━━━━━━━━━━━━━━━━━━━━━━━━━━━━━━━━━━━━\u001b[0m \u001b[32m71.5/71.5 KB\u001b[0m \u001b[31m4.7 MB/s\u001b[0m eta \u001b[36m0:00:00\u001b[0m\n",
            "\u001b[?25hRequirement already satisfied: altair>=4.2.0 in /usr/local/lib/python3.8/dist-packages (from gradio) (4.2.2)\n",
            "Collecting fastapi\n",
            "  Downloading fastapi-0.92.0-py3-none-any.whl (56 kB)\n",
            "\u001b[2K     \u001b[90m━━━━━━━━━━━━━━━━━━━━━━━━━━━━━━━━━━━━━━━\u001b[0m \u001b[32m56.2/56.2 KB\u001b[0m \u001b[31m663.7 kB/s\u001b[0m eta \u001b[36m0:00:00\u001b[0m\n",
            "\u001b[?25hCollecting pydub\n",
            "  Downloading pydub-0.25.1-py2.py3-none-any.whl (32 kB)\n",
            "Requirement already satisfied: aiohttp in /usr/local/lib/python3.8/dist-packages (from gradio) (3.8.4)\n",
            "Collecting uvicorn\n",
            "  Downloading uvicorn-0.20.0-py3-none-any.whl (56 kB)\n",
            "\u001b[2K     \u001b[90m━━━━━━━━━━━━━━━━━━━━━━━━━━━━━━━━━━━━━━━━\u001b[0m \u001b[32m56.9/56.9 KB\u001b[0m \u001b[31m2.8 MB/s\u001b[0m eta \u001b[36m0:00:00\u001b[0m\n",
            "\u001b[?25hRequirement already satisfied: markupsafe in /usr/local/lib/python3.8/dist-packages (from gradio) (2.1.2)\n",
            "Requirement already satisfied: pillow in /usr/local/lib/python3.8/dist-packages (from gradio) (8.4.0)\n",
            "Requirement already satisfied: pyyaml in /usr/local/lib/python3.8/dist-packages (from gradio) (6.0)\n",
            "Requirement already satisfied: typing-extensions in /usr/local/lib/python3.8/dist-packages (from gradio) (4.5.0)\n",
            "Requirement already satisfied: matplotlib in /usr/local/lib/python3.8/dist-packages (from gradio) (3.5.3)\n",
            "Collecting websockets>=10.0\n",
            "  Downloading websockets-10.4-cp38-cp38-manylinux_2_5_x86_64.manylinux1_x86_64.manylinux_2_17_x86_64.manylinux2014_x86_64.whl (106 kB)\n",
            "\u001b[2K     \u001b[90m━━━━━━━━━━━━━━━━━━━━━━━━━━━━━━━━━━━━━━━\u001b[0m \u001b[32m107.0/107.0 KB\u001b[0m \u001b[31m6.7 MB/s\u001b[0m eta \u001b[36m0:00:00\u001b[0m\n",
            "\u001b[?25hCollecting python-multipart\n",
            "  Downloading python_multipart-0.0.6-py3-none-any.whl (45 kB)\n",
            "\u001b[2K     \u001b[90m━━━━━━━━━━━━━━━━━━━━━━━━━━━━━━━━━━━━━━━━\u001b[0m \u001b[32m45.7/45.7 KB\u001b[0m \u001b[31m2.6 MB/s\u001b[0m eta \u001b[36m0:00:00\u001b[0m\n",
            "\u001b[?25hCollecting ffmpy\n",
            "  Downloading ffmpy-0.3.0.tar.gz (4.8 kB)\n",
            "  Preparing metadata (setup.py) ... \u001b[?25l\u001b[?25hdone\n",
            "Requirement already satisfied: pydantic in /usr/local/lib/python3.8/dist-packages (from gradio) (1.10.5)\n",
            "Requirement already satisfied: jinja2 in /usr/local/lib/python3.8/dist-packages (from gradio) (3.1.2)\n",
            "Requirement already satisfied: numpy in /usr/local/lib/python3.8/dist-packages (from gradio) (1.22.4)\n",
            "Collecting pycryptodome\n",
            "  Downloading pycryptodome-3.17-cp35-abi3-manylinux_2_17_x86_64.manylinux2014_x86_64.whl (2.1 MB)\n",
            "\u001b[2K     \u001b[90m━━━━━━━━━━━━━━━━━━━━━━━━━━━━━━━━━━━━━━━━\u001b[0m \u001b[32m2.1/2.1 MB\u001b[0m \u001b[31m46.7 MB/s\u001b[0m eta \u001b[36m0:00:00\u001b[0m\n",
            "\u001b[?25hRequirement already satisfied: fsspec in /usr/local/lib/python3.8/dist-packages (from gradio) (2023.1.0)\n",
            "Collecting markdown-it-py[linkify]>=2.0.0\n",
            "  Downloading markdown_it_py-2.2.0-py3-none-any.whl (84 kB)\n",
            "\u001b[2K     \u001b[90m━━━━━━━━━━━━━━━━━━━━━━━━━━━━━━━━━━━━━━━━\u001b[0m \u001b[32m84.5/84.5 KB\u001b[0m \u001b[31m6.9 MB/s\u001b[0m eta \u001b[36m0:00:00\u001b[0m\n",
            "\u001b[?25hRequirement already satisfied: requests in /usr/local/lib/python3.8/dist-packages (from gradio) (2.25.1)\n",
            "Requirement already satisfied: pandas in /usr/local/lib/python3.8/dist-packages (from gradio) (1.3.5)\n",
            "Collecting aiofiles\n",
            "  Downloading aiofiles-23.1.0-py3-none-any.whl (14 kB)\n",
            "Requirement already satisfied: jsonschema>=3.0 in /usr/local/lib/python3.8/dist-packages (from altair>=4.2.0->gradio) (4.3.3)\n",
            "Requirement already satisfied: entrypoints in /usr/local/lib/python3.8/dist-packages (from altair>=4.2.0->gradio) (0.4)\n",
            "Requirement already satisfied: toolz in /usr/local/lib/python3.8/dist-packages (from altair>=4.2.0->gradio) (0.12.0)\n",
            "Collecting mdurl~=0.1\n",
            "  Downloading mdurl-0.1.2-py3-none-any.whl (10.0 kB)\n",
            "Collecting linkify-it-py<3,>=1\n",
            "  Downloading linkify_it_py-2.0.0-py3-none-any.whl (19 kB)\n",
            "Requirement already satisfied: pytz>=2017.3 in /usr/local/lib/python3.8/dist-packages (from pandas->gradio) (2022.7.1)\n",
            "Requirement already satisfied: python-dateutil>=2.7.3 in /usr/local/lib/python3.8/dist-packages (from pandas->gradio) (2.8.2)\n",
            "Requirement already satisfied: aiosignal>=1.1.2 in /usr/local/lib/python3.8/dist-packages (from aiohttp->gradio) (1.3.1)\n",
            "Requirement already satisfied: attrs>=17.3.0 in /usr/local/lib/python3.8/dist-packages (from aiohttp->gradio) (22.2.0)\n",
            "Requirement already satisfied: multidict<7.0,>=4.5 in /usr/local/lib/python3.8/dist-packages (from aiohttp->gradio) (6.0.4)\n",
            "Requirement already satisfied: frozenlist>=1.1.1 in /usr/local/lib/python3.8/dist-packages (from aiohttp->gradio) (1.3.3)\n",
            "Requirement already satisfied: async-timeout<5.0,>=4.0.0a3 in /usr/local/lib/python3.8/dist-packages (from aiohttp->gradio) (4.0.2)\n",
            "Requirement already satisfied: yarl<2.0,>=1.0 in /usr/local/lib/python3.8/dist-packages (from aiohttp->gradio) (1.8.2)\n",
            "Requirement already satisfied: charset-normalizer<4.0,>=2.0 in /usr/local/lib/python3.8/dist-packages (from aiohttp->gradio) (3.0.1)\n",
            "Collecting starlette<0.26.0,>=0.25.0\n",
            "  Downloading starlette-0.25.0-py3-none-any.whl (66 kB)\n",
            "\u001b[2K     \u001b[90m━━━━━━━━━━━━━━━━━━━━━━━━━━━━━━━━━━━━━━━━\u001b[0m \u001b[32m66.4/66.4 KB\u001b[0m \u001b[31m3.7 MB/s\u001b[0m eta \u001b[36m0:00:00\u001b[0m\n",
            "\u001b[?25hRequirement already satisfied: certifi in /usr/local/lib/python3.8/dist-packages (from httpx->gradio) (2022.12.7)\n",
            "Collecting httpcore<0.17.0,>=0.15.0\n",
            "  Downloading httpcore-0.16.3-py3-none-any.whl (69 kB)\n",
            "\u001b[2K     \u001b[90m━━━━━━━━━━━━━━━━━━━━━━━━━━━━━━━━━━━━━━━━\u001b[0m \u001b[32m69.6/69.6 KB\u001b[0m \u001b[31m4.6 MB/s\u001b[0m eta \u001b[36m0:00:00\u001b[0m\n",
            "\u001b[?25hCollecting sniffio\n",
            "  Downloading sniffio-1.3.0-py3-none-any.whl (10 kB)\n",
            "Collecting rfc3986[idna2008]<2,>=1.3\n",
            "  Downloading rfc3986-1.5.0-py2.py3-none-any.whl (31 kB)\n",
            "Requirement already satisfied: cycler>=0.10 in /usr/local/lib/python3.8/dist-packages (from matplotlib->gradio) (0.11.0)\n",
            "Requirement already satisfied: kiwisolver>=1.0.1 in /usr/local/lib/python3.8/dist-packages (from matplotlib->gradio) (1.4.4)\n",
            "Requirement already satisfied: fonttools>=4.22.0 in /usr/local/lib/python3.8/dist-packages (from matplotlib->gradio) (4.38.0)\n",
            "Requirement already satisfied: packaging>=20.0 in /usr/local/lib/python3.8/dist-packages (from matplotlib->gradio) (23.0)\n",
            "Requirement already satisfied: pyparsing>=2.2.1 in /usr/local/lib/python3.8/dist-packages (from matplotlib->gradio) (3.0.9)\n",
            "Requirement already satisfied: urllib3<1.27,>=1.21.1 in /usr/local/lib/python3.8/dist-packages (from requests->gradio) (1.26.14)\n",
            "Requirement already satisfied: chardet<5,>=3.0.2 in /usr/local/lib/python3.8/dist-packages (from requests->gradio) (4.0.0)\n",
            "Requirement already satisfied: idna<3,>=2.5 in /usr/local/lib/python3.8/dist-packages (from requests->gradio) (2.10)\n",
            "Requirement already satisfied: click>=7.0 in /usr/local/lib/python3.8/dist-packages (from uvicorn->gradio) (8.1.3)\n",
            "Collecting h11>=0.8\n",
            "  Downloading h11-0.14.0-py3-none-any.whl (58 kB)\n",
            "\u001b[2K     \u001b[90m━━━━━━━━━━━━━━━━━━━━━━━━━━━━━━━━━━━━━━━━\u001b[0m \u001b[32m58.3/58.3 KB\u001b[0m \u001b[31m3.5 MB/s\u001b[0m eta \u001b[36m0:00:00\u001b[0m\n",
            "\u001b[?25hCollecting anyio<5.0,>=3.0\n",
            "  Downloading anyio-3.6.2-py3-none-any.whl (80 kB)\n",
            "\u001b[2K     \u001b[90m━━━━━━━━━━━━━━━━━━━━━━━━━━━━━━━━━━━━━━━━\u001b[0m \u001b[32m80.6/80.6 KB\u001b[0m \u001b[31m4.7 MB/s\u001b[0m eta \u001b[36m0:00:00\u001b[0m\n",
            "\u001b[?25hRequirement already satisfied: pyrsistent!=0.17.0,!=0.17.1,!=0.17.2,>=0.14.0 in /usr/local/lib/python3.8/dist-packages (from jsonschema>=3.0->altair>=4.2.0->gradio) (0.19.3)\n",
            "Requirement already satisfied: importlib-resources>=1.4.0 in /usr/local/lib/python3.8/dist-packages (from jsonschema>=3.0->altair>=4.2.0->gradio) (5.12.0)\n",
            "Collecting uc-micro-py\n",
            "  Downloading uc_micro_py-1.0.1-py3-none-any.whl (6.2 kB)\n",
            "Requirement already satisfied: six>=1.5 in /usr/local/lib/python3.8/dist-packages (from python-dateutil>=2.7.3->pandas->gradio) (1.15.0)\n",
            "Requirement already satisfied: zipp>=3.1.0 in /usr/local/lib/python3.8/dist-packages (from importlib-resources>=1.4.0->jsonschema>=3.0->altair>=4.2.0->gradio) (3.15.0)\n",
            "Building wheels for collected packages: ffmpy\n",
            "  Building wheel for ffmpy (setup.py) ... \u001b[?25l\u001b[?25hdone\n",
            "  Created wheel for ffmpy: filename=ffmpy-0.3.0-py3-none-any.whl size=4711 sha256=387777dd8f96c5b93132840508fb5b433cd053d6458f48d304d4247e5b896daf\n",
            "  Stored in directory: /root/.cache/pip/wheels/ff/5b/59/913b443e7369dc04b61f607a746b6f7d83fb65e2e19fcc958d\n",
            "Successfully built ffmpy\n",
            "Installing collected packages: rfc3986, pydub, ffmpy, websockets, uc-micro-py, sniffio, python-multipart, pycryptodome, orjson, mdurl, h11, aiofiles, uvicorn, markdown-it-py, linkify-it-py, anyio, starlette, mdit-py-plugins, httpcore, httpx, fastapi, gradio\n",
            "Successfully installed aiofiles-23.1.0 anyio-3.6.2 fastapi-0.92.0 ffmpy-0.3.0 gradio-3.20.1 h11-0.14.0 httpcore-0.16.3 httpx-0.23.3 linkify-it-py-2.0.0 markdown-it-py-2.2.0 mdit-py-plugins-0.3.3 mdurl-0.1.2 orjson-3.8.7 pycryptodome-3.17 pydub-0.25.1 python-multipart-0.0.6 rfc3986-1.5.0 sniffio-1.3.0 starlette-0.25.0 uc-micro-py-1.0.1 uvicorn-0.20.0 websockets-10.4\n"
          ]
        }
      ],
      "source": [
        "!pip install gradio"
      ]
    },
    {
      "cell_type": "code",
      "execution_count": 2,
      "metadata": {
        "colab": {
          "base_uri": "https://localhost:8080/"
        },
        "id": "vIBf4AO75juG",
        "outputId": "a8adcb3b-654e-4d13-8e83-dee8626097fa"
      },
      "outputs": [
        {
          "name": "stdout",
          "output_type": "stream",
          "text": [
            "Archive:  sample_images.zip\n",
            "   creating: sample_images/\n",
            "  inflating: sample_images/0.png     \n",
            "  inflating: sample_images/1.png     \n",
            "  inflating: sample_images/2.png     \n",
            "  inflating: sample_images/3.png     \n",
            "  inflating: sample_images/4.png     \n",
            "  inflating: sample_images/5.png     \n",
            "  inflating: sample_images/6.png     \n",
            "  inflating: sample_images/7.png     \n",
            "  inflating: sample_images/8.png     \n",
            "  inflating: sample_images/9.png     \n"
          ]
        }
      ],
      "source": [
        "!unzip sample_images.zip"
      ]
    },
    {
      "cell_type": "code",
      "execution_count": 3,
      "metadata": {
        "colab": {
          "base_uri": "https://localhost:8080/"
        },
        "id": "WKv_gyYJ5ryx",
        "outputId": "4a534722-ff78-43e0-b696-849fdab79787"
      },
      "outputs": [
        {
          "name": "stdout",
          "output_type": "stream",
          "text": [
            "Archive:  BasicModel.zip\n",
            "   creating: BasicModel/\n",
            "   creating: BasicModel/assets/\n",
            "  inflating: BasicModel/fingerprint.pb  \n",
            "  inflating: BasicModel/keras_metadata.pb  \n",
            "  inflating: BasicModel/saved_model.pb  \n",
            "   creating: BasicModel/variables/\n",
            "  inflating: BasicModel/variables/variables.data-00000-of-00001  \n",
            "  inflating: BasicModel/variables/variables.index  \n"
          ]
        }
      ],
      "source": [
        "!unzip BasicModel.zip"
      ]
    },
    {
      "cell_type": "code",
      "execution_count": 4,
      "metadata": {
        "id": "K5EBrpOw9WcT"
      },
      "outputs": [],
      "source": [
        "import gradio as gr\n",
        "import tensorflow as tf\n",
        "from glob import glob\n",
        "import cv2\n",
        "import os\n",
        "import numpy as np\n",
        "\n",
        "model_path = \"BasicModel\"\n",
        "model = tf.keras.models.load_model(model_path)\n",
        "labels = [str(i) for i in range(10)]\n",
        "\n",
        "example_images = glob('sample_images/*.png')"
      ]
    },
    {
      "cell_type": "code",
      "execution_count": 5,
      "metadata": {
        "colab": {
          "base_uri": "https://localhost:8080/"
        },
        "id": "7_aCmf4h0lge",
        "outputId": "334fe8ba-6beb-4ee9-c3ba-11e7eb8d5cf6"
      },
      "outputs": [
        {
          "data": {
            "text/plain": [
              "['0', '1', '2', '3', '4', '5', '6', '7', '8', '9']"
            ]
          },
          "execution_count": 5,
          "metadata": {},
          "output_type": "execute_result"
        }
      ],
      "source": [
        "labels "
      ]
    },
    {
      "cell_type": "code",
      "execution_count": 6,
      "metadata": {
        "colab": {
          "base_uri": "https://localhost:8080/"
        },
        "id": "RVTPvJXn7cUu",
        "outputId": "96163882-4b54-49ff-eee8-292b88fbfa56"
      },
      "outputs": [
        {
          "data": {
            "text/plain": [
              "['sample_images/6.png',\n",
              " 'sample_images/4.png',\n",
              " 'sample_images/5.png',\n",
              " 'sample_images/0.png',\n",
              " 'sample_images/3.png',\n",
              " 'sample_images/8.png',\n",
              " 'sample_images/7.png',\n",
              " 'sample_images/9.png',\n",
              " 'sample_images/2.png',\n",
              " 'sample_images/1.png']"
            ]
          },
          "execution_count": 6,
          "metadata": {},
          "output_type": "execute_result"
        }
      ],
      "source": [
        "example_images"
      ]
    },
    {
      "cell_type": "code",
      "execution_count": 7,
      "metadata": {
        "id": "mio44bmAzbsP"
      },
      "outputs": [],
      "source": [
        "def process_image(image):\n",
        "    # Convert into tensor\n",
        "    image = tf.convert_to_tensor(image)\n",
        "\n",
        "    # Cast the image to tf.float32\n",
        "    image = tf.cast(image, tf.float32)\n",
        "    \n",
        "    # Resize the image to img_resize\n",
        "    image = tf.image.resize(image, (32,32))\n",
        "    \n",
        "    # Normalize the image\n",
        "    image /= 255.0\n",
        "    \n",
        "    # Return the processed image and label\n",
        "    return image\n",
        "\n",
        "def predict(image):\n",
        "\n",
        "  # Pre-procesing the data\n",
        "  images = process_image(image)\n",
        "\n",
        "  # Batching\n",
        "  batched_images = tf.expand_dims(images, axis=0)\n",
        "  \n",
        "  prediction = model.predict(batched_images).flatten()\n",
        "  confidences = {labels[i]: np.round(float(prediction[i]), 3) for i in range(len(labels))}\n",
        "  return confidences"
      ]
    },
    {
      "cell_type": "code",
      "execution_count": 8,
      "metadata": {
        "colab": {
          "base_uri": "https://localhost:8080/",
          "height": 616
        },
        "id": "tSKDy5n020C3",
        "outputId": "4982fd58-b435-4d44-d3d3-abbf0b901105"
      },
      "outputs": [
        {
          "name": "stdout",
          "output_type": "stream",
          "text": [
            "Colab notebook detected. To show errors in colab notebook, set debug=True in launch()\n",
            "Note: opening Chrome Inspector may crash demo inside Colab notebooks.\n",
            "\n",
            "To create a public link, set `share=True` in `launch()`.\n"
          ]
        },
        {
          "data": {
            "application/javascript": "(async (port, path, width, height, cache, element) => {\n                        if (!google.colab.kernel.accessAllowed && !cache) {\n                            return;\n                        }\n                        element.appendChild(document.createTextNode(''));\n                        const url = await google.colab.kernel.proxyPort(port, {cache});\n\n                        const external_link = document.createElement('div');\n                        external_link.innerHTML = `\n                            <div style=\"font-family: monospace; margin-bottom: 0.5rem\">\n                                Running on <a href=${new URL(path, url).toString()} target=\"_blank\">\n                                    https://localhost:${port}${path}\n                                </a>\n                            </div>\n                        `;\n                        element.appendChild(external_link);\n\n                        const iframe = document.createElement('iframe');\n                        iframe.src = new URL(path, url).toString();\n                        iframe.height = height;\n                        iframe.allow = \"autoplay; camera; microphone; clipboard-read; clipboard-write;\"\n                        iframe.width = width;\n                        iframe.style.border = 0;\n                        element.appendChild(iframe);\n                    })(7860, \"/\", \"100%\", 500, false, window.element)",
            "text/plain": [
              "<IPython.core.display.Javascript object>"
            ]
          },
          "metadata": {},
          "output_type": "display_data"
        },
        {
          "data": {
            "text/plain": []
          },
          "execution_count": 8,
          "metadata": {},
          "output_type": "execute_result"
        }
      ],
      "source": [
        "demo = gr.Interface(fn=predict, \n",
        "             inputs=gr.Image(shape=(32, 32)),\n",
        "             outputs=gr.Label(num_top_classes=len(labels)),\n",
        "             examples=example_images)\n",
        "             \n",
        "demo.launch()"
      ]
    },
    {
      "cell_type": "code",
      "execution_count": 8,
      "metadata": {
        "id": "PZysLmzpPP3h"
      },
      "outputs": [],
      "source": []
    }
  ],
  "metadata": {
    "colab": {
      "provenance": []
    },
    "gpuClass": "standard",
    "kernelspec": {
      "display_name": "Python 3",
      "name": "python3"
    },
    "language_info": {
      "name": "python"
    }
  },
  "nbformat": 4,
  "nbformat_minor": 0
}
